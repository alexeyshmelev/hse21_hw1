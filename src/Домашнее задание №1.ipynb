{
 "cells": [
  {
   "cell_type": "code",
   "execution_count": 25,
   "id": "e7fa7351",
   "metadata": {},
   "outputs": [
    {
     "name": "stdout",
     "output_type": "stream",
     "text": [
      "Общее количество контигов: 630, их общая длина: 3926892, длина самого длинного контига: 179304, N50: 53978\n",
      "Общее количество скаффлдов: 71, их общая длина: 3875743, длина самого длинного скаффолда: 3832127, N50: 3832127\n",
      "Общее количество гэпов (not gap closed): 68, их общая длина: 6988\n",
      "Общее количество гэпов (gap closed): 10, их общая длина: 1848\n"
     ]
    }
   ],
   "source": [
    "import re\n",
    "\n",
    "array_contig = []\n",
    "counter = 0\n",
    "with open(\"out_contig.fa\") as f:\n",
    "    for line in f:\n",
    "        if line[0] == \">\":\n",
    "            array_contig.append(int(line.split(\"_\")[1][3:]))\n",
    "array_contig.sort(reverse=True)\n",
    "total_contig_length = sum(array_contig)\n",
    "total_contig_num = len(array_contig)\n",
    "max_contig = array_contig[0]\n",
    "for i in array_contig:\n",
    "    counter += i\n",
    "    if counter >= total_contig_length // 2:\n",
    "        n50 = i\n",
    "        break\n",
    "print(\"Общее количество контигов: {}, их общая длина: {}, длина самого длинного контига: {}, N50: {}\".format(total_contig_num, total_contig_length, max_contig, n50))\n",
    "\n",
    "array_scaffold = []\n",
    "counter = 0\n",
    "with open(\"out_scaffold.fa\") as f:\n",
    "    for line in f:\n",
    "        if line[0] == \">\":\n",
    "            array_scaffold.append(int(line.split(\"_\")[1][3:]))\n",
    "array_scaffold.sort(reverse=True)\n",
    "total_scaffold_length = sum(array_scaffold)\n",
    "total_scaffold_num = len(array_scaffold)\n",
    "max_scaffold = array_scaffold[0]\n",
    "for i in array_scaffold:\n",
    "    counter += i\n",
    "    if counter >= total_scaffold_length // 2:\n",
    "        n50 = i\n",
    "        break\n",
    "print(\"Общее количество скаффлдов: {}, их общая длина: {}, длина самого длинного скаффолда: {}, N50: {}\".format(total_scaffold_num, total_scaffold_length, max_scaffold, n50))\n",
    "\n",
    "with open(\"longest.fa\") as f:\n",
    "    all = f.read()\n",
    "    nnn = re.findall('N{1,}', all)\n",
    "    print(\"Общее количество гэпов (not gap closed): {}, их общая длина: {}\".format(len(nnn), sum([len(i) for i in nnn])))\n",
    "\n",
    "with open(\"longest_closed.fa\") as f:\n",
    "    all = f.read()\n",
    "    nnn = re.findall('N{1,}', all)\n",
    "    print(\"Общее количество гэпов (gap closed): {}, их общая длина: {}\".format(len(nnn), sum([len(i) for i in nnn])))"
   ]
  }
 ],
 "metadata": {
  "kernelspec": {
   "display_name": "Python 3",
   "language": "python",
   "name": "python3"
  },
  "language_info": {
   "codemirror_mode": {
    "name": "ipython",
    "version": 3
   },
   "file_extension": ".py",
   "mimetype": "text/x-python",
   "name": "python",
   "nbconvert_exporter": "python",
   "pygments_lexer": "ipython3",
   "version": "3.8.8"
  }
 },
 "nbformat": 4,
 "nbformat_minor": 5
}
